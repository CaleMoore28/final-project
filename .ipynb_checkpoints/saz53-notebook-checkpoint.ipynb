{
 "cells": [
  {
   "cell_type": "markdown",
   "metadata": {},
   "source": [
    "**City of Pittsburgh Public Art**\n",
    "\n",
    "https://data.wprdc.org/dataset/city-of-pittsburgh-public-art\n",
    "\n",
    "Metric: community/cultural development\n",
    "\n",
    "a neighborhood is classified as \"better\" the more public art it has"
   ]
  },
  {
   "cell_type": "code",
   "execution_count": 12,
   "metadata": {},
   "outputs": [
    {
     "name": "stdout",
     "output_type": "stream",
     "text": [
      "                   hood\n",
      "0    Point Breeze North\n",
      "1   Squirrel Hill North\n",
      "2              Garfield\n",
      "3     Bedford Dwellings\n",
      "4             Knoxville\n",
      "..                  ...\n",
      "85        Regent Square\n",
      "86      Terrace Village\n",
      "87              Elliott\n",
      "88     South Side Flats\n",
      "89             Fineview\n",
      "\n",
      "[90 rows x 1 columns]\n"
     ]
    }
   ],
   "source": [
    "import pandas as pd\n",
    "\n",
    "art = pd.read_csv(\"art.csv\")\n",
    "neighborhoods = pd.read_csv(\"neighborhoods.csv\")\n",
    "\n",
    "allHoods = neighborhoods.iloc[:, [21]]\n",
    "print(allHoods)\n",
    "\n",
    "# create dictionary where key is neighborhood name and value is number of artworks\n",
    "hoodDict = {}\n",
    "\n",
    "# for each row, match the neighborhood name with a name in the dictionary and increment the associated value by 1\n",
    "# use iterrows\n"
   ]
  },
  {
   "cell_type": "code",
   "execution_count": null,
   "metadata": {},
   "outputs": [],
   "source": []
  }
 ],
 "metadata": {
  "kernelspec": {
   "display_name": "Python 3",
   "language": "python",
   "name": "python3"
  },
  "language_info": {
   "codemirror_mode": {
    "name": "ipython",
    "version": 3
   },
   "file_extension": ".py",
   "mimetype": "text/x-python",
   "name": "python",
   "nbconvert_exporter": "python",
   "pygments_lexer": "ipython3",
   "version": "3.8.3"
  }
 },
 "nbformat": 4,
 "nbformat_minor": 4
}
